{
 "cells": [
  {
   "cell_type": "code",
   "execution_count": 1,
   "metadata": {},
   "outputs": [],
   "source": [
    "import rdkit.Chem as Chem\n",
    "import numpy as np\n",
    "from futils import loaders\n",
    "import importlib\n",
    "from futils import mols_to_tiff\n",
    "importlib.reload(mols_to_tiff)\n",
    "importlib.reload(loaders)\n",
    "import pandas as pd\n",
    "import sdf_to_parquet"
   ]
  },
  {
   "cell_type": "code",
   "execution_count": 51,
   "metadata": {},
   "outputs": [],
   "source": [
    "df = pd.read_parquet(\"/home/qzj517/POR-DD/Enamine_library/gnina/pyo3.parquet\")\n",
    "df[\"name\"] = df[\"Catalog ID\"]\n",
    "df = df.astype({\"CNN_VS\": float})\n",
    "df = df.sort_values(\"CNN_VS\", ascending = False)"
   ]
  },
  {
   "cell_type": "code",
   "execution_count": 13,
   "metadata": {},
   "outputs": [],
   "source": [
    "supp = Chem.SDMolSupplier(\"gnina/gnina_full.sdf\")\n",
    "allmols = list(supp)\n",
    "# sdf_to_parquet.extract_single_file(\"/home/qzj517/POR-DD/Enamine_library/gnina/gnina_full.sdf\", \"/home/qzj517/POR-DD/Enamine_library/gnina/pyo3.parquet\")\n",
    "# df = pd.read_parquet(\"gnina/gnina_full.parquet\")"
   ]
  },
  {
   "cell_type": "code",
   "execution_count": 16,
   "metadata": {},
   "outputs": [],
   "source": [
    "sorted_mols = sorted(allmols, key = lambda mol: float(mol.GetProp(\"CNN_VS\")), reverse = True)\n",
    "[mol.SetProp(\"_Name\", mol.GetProp(\"Catalog ID\")) for mol in sorted_mols]\n",
    "pass"
   ]
  },
  {
   "cell_type": "code",
   "execution_count": 46,
   "metadata": {},
   "outputs": [],
   "source": [
    "idk = np.array([mol.GetProp(\"_Name\") for mol in sorted_mols[:1000]])"
   ]
  },
  {
   "cell_type": "code",
   "execution_count": 52,
   "metadata": {},
   "outputs": [
    {
     "data": {
      "text/html": [
       "<div>\n",
       "<style scoped>\n",
       "    .dataframe tbody tr th:only-of-type {\n",
       "        vertical-align: middle;\n",
       "    }\n",
       "\n",
       "    .dataframe tbody tr th {\n",
       "        vertical-align: top;\n",
       "    }\n",
       "\n",
       "    .dataframe thead th {\n",
       "        text-align: right;\n",
       "    }\n",
       "</style>\n",
       "<table border=\"1\" class=\"dataframe\">\n",
       "  <thead>\n",
       "    <tr style=\"text-align: right;\">\n",
       "      <th></th>\n",
       "      <th>name</th>\n",
       "      <th>CNN_VS</th>\n",
       "    </tr>\n",
       "  </thead>\n",
       "  <tbody>\n",
       "    <tr>\n",
       "      <th>277880</th>\n",
       "      <td>Z1887920933</td>\n",
       "      <td>6.812764</td>\n",
       "    </tr>\n",
       "    <tr>\n",
       "      <th>291266</th>\n",
       "      <td>Z1661723896</td>\n",
       "      <td>6.577064</td>\n",
       "    </tr>\n",
       "    <tr>\n",
       "      <th>132948</th>\n",
       "      <td>Z937003200</td>\n",
       "      <td>6.529172</td>\n",
       "    </tr>\n",
       "    <tr>\n",
       "      <th>224393</th>\n",
       "      <td>Z1334157727</td>\n",
       "      <td>6.489083</td>\n",
       "    </tr>\n",
       "    <tr>\n",
       "      <th>126130</th>\n",
       "      <td>Z1663637016</td>\n",
       "      <td>6.486062</td>\n",
       "    </tr>\n",
       "    <tr>\n",
       "      <th>...</th>\n",
       "      <td>...</td>\n",
       "      <td>...</td>\n",
       "    </tr>\n",
       "    <tr>\n",
       "      <th>383140</th>\n",
       "      <td>Z434439346</td>\n",
       "      <td>4.341877</td>\n",
       "    </tr>\n",
       "    <tr>\n",
       "      <th>290937</th>\n",
       "      <td>Z2766393143</td>\n",
       "      <td>4.341397</td>\n",
       "    </tr>\n",
       "    <tr>\n",
       "      <th>102492</th>\n",
       "      <td>Z1579619644</td>\n",
       "      <td>4.341216</td>\n",
       "    </tr>\n",
       "    <tr>\n",
       "      <th>294481</th>\n",
       "      <td>Z2387824479</td>\n",
       "      <td>4.340575</td>\n",
       "    </tr>\n",
       "    <tr>\n",
       "      <th>350223</th>\n",
       "      <td>Z1459953969</td>\n",
       "      <td>4.339830</td>\n",
       "    </tr>\n",
       "  </tbody>\n",
       "</table>\n",
       "<p>1000 rows × 2 columns</p>\n",
       "</div>"
      ],
      "text/plain": [
       "               name    CNN_VS\n",
       "277880  Z1887920933  6.812764\n",
       "291266  Z1661723896  6.577064\n",
       "132948   Z937003200  6.529172\n",
       "224393  Z1334157727  6.489083\n",
       "126130  Z1663637016  6.486062\n",
       "...             ...       ...\n",
       "383140   Z434439346  4.341877\n",
       "290937  Z2766393143  4.341397\n",
       "102492  Z1579619644  4.341216\n",
       "294481  Z2387824479  4.340575\n",
       "350223  Z1459953969  4.339830\n",
       "\n",
       "[1000 rows x 2 columns]"
      ]
     },
     "execution_count": 52,
     "metadata": {},
     "output_type": "execute_result"
    }
   ],
   "source": [
    "df.iloc[:1000][[\"name\", \"CNN_VS\"]]"
   ]
  },
  {
   "cell_type": "code",
   "execution_count": 57,
   "metadata": {},
   "outputs": [],
   "source": [
    "random_sample = list(np.random.choice(sorted_mols, size = 1000, replace = False))"
   ]
  },
  {
   "cell_type": "code",
   "execution_count": 58,
   "metadata": {},
   "outputs": [],
   "source": [
    "with Chem.SDWriter(\"enamine_best_1000.sdf\") as writer:\n",
    "    [writer.write(mol) for mol in sorted_mols[:1000]]\n",
    "with Chem.SDWriter(\"enamine_random_1000.sdf\") as writer:\n",
    "    [writer.write(mol) for mol in random_sample]"
   ]
  },
  {
   "cell_type": "code",
   "execution_count": 56,
   "metadata": {},
   "outputs": [],
   "source": [
    "mols = list(Chem.SDMolSupplier(\"/home/qzj517/POR-DD/pymol_showcase/data/enamine_random_1000.sdf\"))"
   ]
  },
  {
   "cell_type": "code",
   "execution_count": 13,
   "metadata": {},
   "outputs": [
    {
     "name": "stdout",
     "output_type": "stream",
     "text": [
      "Removing conformation of every mol in provided list IN PLACE.\n"
     ]
    }
   ],
   "source": [
    "mols_to_tiff.mols_to_tiff(\"best_1000.tif\", sorted_mols[:1000], 5, clearconfs = True)"
   ]
  },
  {
   "cell_type": "code",
   "execution_count": 29,
   "metadata": {},
   "outputs": [],
   "source": [
    "k_best = sorted_mols[:1000]"
   ]
  },
  {
   "cell_type": "code",
   "execution_count": 31,
   "metadata": {},
   "outputs": [
    {
     "data": {
      "text/plain": [
       "array([[ 6.37540e+00,  6.44067e+01,  1.21700e+00],\n",
       "       [ 7.09500e+00,  6.43300e+01, -5.85000e-02],\n",
       "       [ 6.61480e+00,  6.30134e+01, -6.75900e-01],\n",
       "       [ 5.26420e+00,  6.27216e+01,  1.82000e-02],\n",
       "       [ 5.01740e+00,  6.39527e+01,  8.98500e-01],\n",
       "       [ 4.15410e+00,  6.24328e+01, -9.42500e-01],\n",
       "       [ 2.77720e+00,  6.27408e+01, -8.28600e-01],\n",
       "       [ 2.07060e+00,  6.23483e+01, -1.88990e+00],\n",
       "       [ 2.99060e+00,  6.17853e+01, -2.69270e+00],\n",
       "       [ 2.58700e+00,  6.12399e+01, -3.96500e+00],\n",
       "       [ 4.24950e+00,  6.18115e+01, -2.17190e+00],\n",
       "       [ 7.61690e+00,  6.18800e+01, -4.50200e-01],\n",
       "       [ 8.77860e+00,  6.20599e+01, -1.25780e+00],\n",
       "       [ 6.37300e+00,  6.57709e+01,  1.78910e+00],\n",
       "       [ 4.78400e+00,  6.82013e+01, -5.02800e-01],\n",
       "       [ 3.52080e+00,  6.83463e+01,  3.32000e-02],\n",
       "       [ 3.26570e+00,  6.76165e+01,  1.16940e+00],\n",
       "       [ 2.05120e+00,  6.76769e+01,  1.78920e+00],\n",
       "       [ 4.14670e+00,  6.68059e+01,  1.75900e+00],\n",
       "       [ 5.35530e+00,  6.67215e+01,  1.17180e+00],\n",
       "       [ 5.71290e+00,  6.74040e+01,  6.26000e-02],\n",
       "       [ 6.39910e+00,  6.98689e+01, -1.47660e+00],\n",
       "       [ 5.19400e+00,  6.89761e+01, -1.73050e+00]])"
      ]
     },
     "execution_count": 31,
     "metadata": {},
     "output_type": "execute_result"
    }
   ],
   "source": [
    "first_conf = k_best[0].GetConformer().GetPositions()\n",
    "first_conf"
   ]
  },
  {
   "cell_type": "code",
   "execution_count": 33,
   "metadata": {},
   "outputs": [
    {
     "data": {
      "text/plain": [
       "0"
      ]
     },
     "execution_count": 33,
     "metadata": {},
     "output_type": "execute_result"
    }
   ],
   "source": [
    "from rdkit.Chem import AllChem\n",
    "AllChem.Compute2DCoords(k_best[0])"
   ]
  },
  {
   "cell_type": "code",
   "execution_count": 1,
   "metadata": {},
   "outputs": [
    {
     "ename": "ModuleNotFoundError",
     "evalue": "No module named 'sdf_to_parquet'",
     "output_type": "error",
     "traceback": [
      "\u001b[0;31m---------------------------------------------------------------------------\u001b[0m",
      "\u001b[0;31mModuleNotFoundError\u001b[0m                       Traceback (most recent call last)",
      "\u001b[0;32m/tmp/ipykernel_15325/2794879431.py\u001b[0m in \u001b[0;36m<module>\u001b[0;34m\u001b[0m\n\u001b[0;32m----> 1\u001b[0;31m \u001b[0;32mimport\u001b[0m \u001b[0msdf_to_parquet\u001b[0m\u001b[0;34m\u001b[0m\u001b[0;34m\u001b[0m\u001b[0m\n\u001b[0m",
      "\u001b[0;31mModuleNotFoundError\u001b[0m: No module named 'sdf_to_parquet'"
     ]
    }
   ],
   "source": [
    "import sdf_to_parquet"
   ]
  },
  {
   "cell_type": "code",
   "execution_count": 38,
   "metadata": {},
   "outputs": [],
   "source": [
    "mol = k_best[0]"
   ]
  },
  {
   "cell_type": "code",
   "execution_count": 46,
   "metadata": {},
   "outputs": [],
   "source": [
    "conf = mol.GetConformer()"
   ]
  },
  {
   "cell_type": "code",
   "execution_count": 47,
   "metadata": {},
   "outputs": [
    {
     "data": {
      "text/plain": [
       "rdkit.Chem.rdchem.Conformer"
      ]
     },
     "execution_count": 47,
     "metadata": {},
     "output_type": "execute_result"
    }
   ],
   "source": [
    "conf.Set3D"
   ]
  },
  {
   "cell_type": "code",
   "execution_count": 41,
   "metadata": {},
   "outputs": [
    {
     "data": {
      "text/plain": [
       "[<rdkit.Chem.rdchem.Conformer at 0x7f35ecc93580>]"
      ]
     },
     "execution_count": 41,
     "metadata": {},
     "output_type": "execute_result"
    }
   ],
   "source": [
    "list(mol.GetConformers())"
   ]
  },
  {
   "cell_type": "code",
   "execution_count": 34,
   "metadata": {},
   "outputs": [
    {
     "data": {
      "text/plain": [
       "array([[-0.18084586,  2.00224352,  0.        ],\n",
       "       [ 0.93575147,  3.00384743,  0.        ],\n",
       "       [ 2.23338095,  2.25141289,  0.        ],\n",
       "       [ 1.91876274,  0.78477885,  0.        ],\n",
       "       [ 0.42668851,  0.63078371,  0.        ],\n",
       "       [ 2.92036665, -0.33181848,  0.        ],\n",
       "       [ 4.41244088, -0.17782334,  0.        ],\n",
       "       [ 5.01997525, -1.54928314,  0.        ],\n",
       "       [ 3.90337791, -2.55088705,  0.        ],\n",
       "       [ 4.05737305, -4.04296128,  0.        ],\n",
       "       [ 2.60574844, -1.79845251,  0.        ],\n",
       "       [ 3.60484075,  2.85894726,  0.        ],\n",
       "       [ 4.81671085,  1.97499542,  0.        ],\n",
       "       [-1.64747989,  2.31686173,  0.        ],\n",
       "       [-3.198199  , -1.33625615,  0.        ],\n",
       "       [-4.66483303, -1.02163794,  0.        ],\n",
       "       [-5.12568268,  0.40581349,  0.        ],\n",
       "       [-6.59231671,  0.72043171,  0.        ],\n",
       "       [-4.1198983 ,  1.51864672,  0.        ],\n",
       "       [-2.65326427,  1.20402851,  0.        ],\n",
       "       [-2.19241462, -0.22342293,  0.        ],\n",
       "       [-3.74313373, -3.87654081,  0.        ],\n",
       "       [-2.73734935, -2.76370759,  0.        ]])"
      ]
     },
     "execution_count": 34,
     "metadata": {},
     "output_type": "execute_result"
    }
   ],
   "source": [
    "second_conf = k_best[0].GetConformer().GetPositions()\n",
    "second_conf"
   ]
  },
  {
   "cell_type": "code",
   "execution_count": 2,
   "metadata": {},
   "outputs": [],
   "source": [
    "supp_eq = Chem.SDMolSupplier(\"equibind/output.sdf\", sanitize = False)"
   ]
  },
  {
   "cell_type": "code",
   "execution_count": 57,
   "metadata": {},
   "outputs": [],
   "source": [
    "# mols = [supp_eq[i] for i in range(4018, 5000)]\n",
    "# mols = [supp_eq[i] for i in range(3900, 4000)]\n",
    "mols = [supp_eq[4017]]"
   ]
  },
  {
   "cell_type": "code",
   "execution_count": 58,
   "metadata": {},
   "outputs": [],
   "source": [
    "with Chem.SDWriter(\"yea_idk.sdf\") as writer:\n",
    "    [writer.write(mol) for mol in mols]"
   ]
  },
  {
   "cell_type": "code",
   "execution_count": 4,
   "metadata": {},
   "outputs": [],
   "source": [
    "mol = mols[0]"
   ]
  },
  {
   "cell_type": "code",
   "execution_count": 3,
   "metadata": {},
   "outputs": [],
   "source": [
    "with open(\"/home/qzj517/POR-DD/Enamine_library/equibind/output.sdf\") as file:\n",
    "    whole_file = file.read()"
   ]
  },
  {
   "cell_type": "code",
   "execution_count": 19,
   "metadata": {},
   "outputs": [],
   "source": [
    "import re\n",
    "import numpy as np"
   ]
  },
  {
   "cell_type": "code",
   "execution_count": 11,
   "metadata": {},
   "outputs": [],
   "source": [
    "regex = re.compile(r\">  <Catalog ID>  \\((\\d+)\\)\")"
   ]
  },
  {
   "cell_type": "code",
   "execution_count": 17,
   "metadata": {},
   "outputs": [],
   "source": [
    "all_inds = regex.findall(whole_file)\n",
    "all_inds = [int(ele)-1 for ele in all_inds]"
   ]
  },
  {
   "cell_type": "code",
   "execution_count": 22,
   "metadata": {},
   "outputs": [
    {
     "data": {
      "text/plain": [
       "True"
      ]
     },
     "execution_count": 22,
     "metadata": {},
     "output_type": "execute_result"
    }
   ],
   "source": [
    "(np.array(all_inds) == np.arange(len(all_inds))).all()"
   ]
  },
  {
   "cell_type": "code",
   "execution_count": 26,
   "metadata": {},
   "outputs": [],
   "source": [
    "with open(\"/home/qzj517/POR-DD/Enamine_library/equibind/success.txt\", \"w\") as file:\n",
    "    file.write(\"\\n\".join([str(ele) + \" \" for ele in all_inds]))"
   ]
  },
  {
   "cell_type": "code",
   "execution_count": null,
   "metadata": {},
   "outputs": [],
   "source": []
  }
 ],
 "metadata": {
  "kernelspec": {
   "display_name": "Python 3.7.12 ('equibind')",
   "language": "python",
   "name": "python3"
  },
  "language_info": {
   "codemirror_mode": {
    "name": "ipython",
    "version": 3
   },
   "file_extension": ".py",
   "mimetype": "text/x-python",
   "name": "python",
   "nbconvert_exporter": "python",
   "pygments_lexer": "ipython3",
   "version": "3.7.12"
  },
  "orig_nbformat": 4,
  "vscode": {
   "interpreter": {
    "hash": "04475abadedb3aab4ccbf1c008eb02d5b063596dfe932483cffbc789dbcaf521"
   }
  }
 },
 "nbformat": 4,
 "nbformat_minor": 2
}
