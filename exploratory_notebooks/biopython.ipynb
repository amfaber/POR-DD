{
 "cells": [
  {
   "cell_type": "code",
   "execution_count": 2,
   "metadata": {},
   "outputs": [],
   "source": [
    "from futils import poseview\n",
    "import Bio.PDB as bpdb\n",
    "import rdkit.Chem as Chem\n",
    "from futils import loaders"
   ]
  },
  {
   "cell_type": "code",
   "execution_count": 3,
   "metadata": {},
   "outputs": [],
   "source": [
    "ligs = Chem.SDMolSupplier(\"../data/gnina_processed/chainA/chainA.sdf\")\n",
    "parser = bpdb.PDBParser(QUIET=True)\n",
    "s = parser.get_structure(\"POR\", \"../data/raw_data/por_structures/3ES9_bioassem_1.pdb\")\n",
    "hetress = []\n",
    "otherress = []\n",
    "chA = s[0][\"A\"]\n",
    "for res in chA:\n",
    "    if not res.id[0] == \" \":\n",
    "        hetress.append(res)\n",
    "    else:\n",
    "        otherress.append(res)\n",
    "[chA.detach_child(res.id) for res in hetress]\n",
    "cnndata = loaders.load_bulk2(\"../data/gnina_processed/chainA/chainA.txt\")"
   ]
  },
  {
   "cell_type": "code",
   "execution_count": 4,
   "metadata": {},
   "outputs": [],
   "source": [
    "poseview.create_widget(chA, ligs, cnndata, title = \"Title\")"
   ]
  },
  {
   "cell_type": "code",
   "execution_count": null,
   "metadata": {},
   "outputs": [],
   "source": []
  }
 ],
 "metadata": {
  "interpreter": {
   "hash": "04475abadedb3aab4ccbf1c008eb02d5b063596dfe932483cffbc789dbcaf521"
  },
  "kernelspec": {
   "display_name": "Python 3.7.12 ('equibind')",
   "language": "python",
   "name": "python3"
  },
  "language_info": {
   "codemirror_mode": {
    "name": "ipython",
    "version": 3
   },
   "file_extension": ".py",
   "mimetype": "text/x-python",
   "name": "python",
   "nbconvert_exporter": "python",
   "pygments_lexer": "ipython3",
   "version": "3.7.12"
  },
  "orig_nbformat": 4
 },
 "nbformat": 4,
 "nbformat_minor": 2
}
