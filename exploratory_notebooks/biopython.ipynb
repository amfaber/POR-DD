{
 "cells": [
  {
   "cell_type": "code",
   "execution_count": 15,
   "metadata": {},
   "outputs": [],
   "source": [
    "from futils import poseview\n",
    "import Bio.PDB as bpdb\n",
    "import rdkit.Chem as Chem\n",
    "from futils import loaders"
   ]
  },
  {
   "cell_type": "code",
   "execution_count": 16,
   "metadata": {},
   "outputs": [],
   "source": [
    "ligs = Chem.SDMolSupplier(\"../data/raw_data/cyp_screen/test_3D_opt_1216.sdf\")\n",
    "parser = bpdb.PDBParser(QUIET=True)\n",
    "s = parser.get_structure(\"POR\", \"../data/raw_data/por_structures/3ES9.pdb1\")\n",
    "hetress = []\n",
    "otherress = []\n",
    "chA = s[0][\"A\"]\n",
    "for res in chA:\n",
    "    if not res.id[0] == \" \":\n",
    "        hetress.append(res)\n",
    "    else:\n",
    "        otherress.append(res)\n",
    "[chA.detach_child(res.id) for res in hetress]\n",
    "cnndata = loaders.load_bulk2(\"../data/gnina_processed/cyp_screen_rdkit.txt\")"
   ]
  },
  {
   "cell_type": "code",
   "execution_count": 17,
   "metadata": {},
   "outputs": [
    {
     "data": {
      "application/vnd.jupyter.widget-view+json": {
       "model_id": "5f1ae81b3f8c45c39f503d5ea0d64dd2",
       "version_major": 2,
       "version_minor": 0
      },
      "text/plain": [
       "VBox(children=(HBox(children=(VBox(children=(HBox(children=(IntText(value=0, layout=Layout(width='100px')), Bu…"
      ]
     },
     "metadata": {},
     "output_type": "display_data"
    }
   ],
   "source": [
    "poseview.create_widget(chA, ligs, cnndata, title = \"Title\")"
   ]
  }
 ],
 "metadata": {
  "interpreter": {
   "hash": "e2119a0a3301249aa1af3f612a7b1c0027908ee501c6b62aaf0fd0c409e1d1ad"
  },
  "kernelspec": {
   "display_name": "Python 3.7.12 ('equibind')",
   "language": "python",
   "name": "python3"
  },
  "language_info": {
   "codemirror_mode": {
    "name": "ipython",
    "version": 3
   },
   "file_extension": ".py",
   "mimetype": "text/x-python",
   "name": "python",
   "nbconvert_exporter": "python",
   "pygments_lexer": "ipython3",
   "version": "3.7.12"
  },
  "orig_nbformat": 4
 },
 "nbformat": 4,
 "nbformat_minor": 2
}
