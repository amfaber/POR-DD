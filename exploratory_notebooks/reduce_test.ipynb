{
 "cells": [
  {
   "cell_type": "code",
   "execution_count": 8,
   "metadata": {},
   "outputs": [
    {
     "name": "stderr",
     "output_type": "stream",
     "text": [
      "/home/qzj517/anaconda3/envs/equibind/lib/python3.7/site-packages/Bio/PDB/PDBParser.py:399: PDBConstructionWarning: Ignoring unrecognized record 'END' at line 10119\n",
      "  PDBConstructionWarning,\n"
     ]
    }
   ],
   "source": [
    "import Bio.PDB as bp\n",
    "import numpy as np\n",
    "p = bp.PDBParser()\n",
    "s1 = p.get_structure(\"\", \"../data/raw_data/por_structures/3ES9_1_reduced.pdb\")[0]\n",
    "s2 = p.get_structure(\"\", \"../data/raw_data/por_structures/3ES9_bioassem_1.pdb\")[0]"
   ]
  },
  {
   "cell_type": "code",
   "execution_count": 30,
   "metadata": {},
   "outputs": [],
   "source": [
    "atoms1 = np.stack([atom.coord for atom in s1.get_atoms() if not atom.element == \"H\"])\n",
    "atoms2 = np.stack([atom.coord for atom in s2.get_atoms()])"
   ]
  },
  {
   "cell_type": "code",
   "execution_count": 33,
   "metadata": {},
   "outputs": [
    {
     "data": {
      "text/plain": [
       "0.0"
      ]
     },
     "execution_count": 33,
     "metadata": {},
     "output_type": "execute_result"
    }
   ],
   "source": [
    "((atoms1 - atoms2)**2).sum()"
   ]
  },
  {
   "cell_type": "code",
   "execution_count": null,
   "metadata": {},
   "outputs": [],
   "source": []
  }
 ],
 "metadata": {
  "kernelspec": {
   "display_name": "Python 3.7.12 ('equibind')",
   "language": "python",
   "name": "python3"
  },
  "language_info": {
   "codemirror_mode": {
    "name": "ipython",
    "version": 3
   },
   "file_extension": ".py",
   "mimetype": "text/x-python",
   "name": "python",
   "nbconvert_exporter": "python",
   "pygments_lexer": "ipython3",
   "version": "3.7.12"
  },
  "orig_nbformat": 4,
  "vscode": {
   "interpreter": {
    "hash": "04475abadedb3aab4ccbf1c008eb02d5b063596dfe932483cffbc789dbcaf521"
   }
  }
 },
 "nbformat": 4,
 "nbformat_minor": 2
}
