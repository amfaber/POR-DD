{
 "cells": [
  {
   "cell_type": "code",
   "execution_count": 1,
   "metadata": {},
   "outputs": [
    {
     "data": {
      "text/plain": [
       "<module 'example' from '/home/qzj517/POR-DD/pybind_test/example.cpython-37m-x86_64-linux-gnu.so'>"
      ]
     },
     "execution_count": 1,
     "metadata": {},
     "output_type": "execute_result"
    }
   ],
   "source": [
    "import importlib\n",
    "import example\n",
    "importlib.reload(example)"
   ]
  },
  {
   "cell_type": "code",
   "execution_count": 2,
   "metadata": {},
   "outputs": [
    {
     "name": "stdout",
     "output_type": "stream",
     "text": [
      "Thread started\n",
      "x: 1 y: 2\n",
      "x: 1 y: 2\n",
      "x: 1 y: 2\n",
      "x: 1 y: 2\n",
      "x: 1 y: 2\n",
      "x: 1 y: 2\n",
      "x: 1 y: 2\n",
      "x: 1 y: 2\n",
      "x: 1 y: 2\n",
      "x: 1 y: 2\n"
     ]
    }
   ],
   "source": [
    "example.test(1,2)"
   ]
  },
  {
   "cell_type": "code",
   "execution_count": null,
   "metadata": {},
   "outputs": [],
   "source": []
  }
 ],
 "metadata": {
  "kernelspec": {
   "display_name": "Python 3.7.13 ('torch-cpu')",
   "language": "python",
   "name": "python3"
  },
  "language_info": {
   "codemirror_mode": {
    "name": "ipython",
    "version": 3
   },
   "file_extension": ".py",
   "mimetype": "text/x-python",
   "name": "python",
   "nbconvert_exporter": "python",
   "pygments_lexer": "ipython3",
   "version": "3.7.13"
  },
  "orig_nbformat": 4,
  "vscode": {
   "interpreter": {
    "hash": "bd4629fcdd3a10f00334e3eb6a1aa27f917e7be94e1c0bfc2d65949fc2b62125"
   }
  }
 },
 "nbformat": 4,
 "nbformat_minor": 2
}
