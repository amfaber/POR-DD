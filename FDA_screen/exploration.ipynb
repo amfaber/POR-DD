{
 "cells": [
  {
   "cell_type": "code",
   "execution_count": 1,
   "metadata": {},
   "outputs": [
    {
     "data": {
      "application/vnd.jupyter.widget-view+json": {
       "model_id": "a029bc278cb242d38922e953a8a75b0c",
       "version_major": 2,
       "version_minor": 0
      },
      "text/plain": []
     },
     "metadata": {},
     "output_type": "display_data"
    }
   ],
   "source": [
    "from futils import poseview\n",
    "from futils import poseview\n",
    "import Bio.PDB as bpdb\n",
    "import rdkit.Chem as Chem\n",
    "from futils import loaders\n",
    "import matplotlib.pyplot as plt\n",
    "from futils import ROOT\n",
    "from futils import PROT\n",
    "import pandas as pd"
   ]
  },
  {
   "cell_type": "code",
   "execution_count": 3,
   "metadata": {},
   "outputs": [
    {
     "data": {
      "application/vnd.jupyter.widget-view+json": {
       "model_id": "7fb3ba55ff4041f4b15804cc1d1dd4df",
       "version_major": 2,
       "version_minor": 0
      },
      "text/plain": [
       "VBox(children=(HBox(children=(VBox(children=(HBox(children=(IntText(value=0, layout=Layout(width='100px')), Bu…"
      ]
     },
     "metadata": {},
     "output_type": "display_data"
    }
   ],
   "source": [
    "ligs = Chem.SDMolSupplier(ROOT.ds / \"data/gnina_processed/FDA_screen/gnina.sdf\")\n",
    "parser = bpdb.PDBParser(QUIET=True)\n",
    "s = parser.get_structure(\"POR\", PROT)\n",
    "hetress = []\n",
    "otherress = []\n",
    "chA = s[0][\"A\"]\n",
    "for res in chA:\n",
    "    if not res.id[0] == \" \":\n",
    "        hetress.append(res)\n",
    "    else:\n",
    "        otherress.append(res)\n",
    "[chA.detach_child(res.id) for res in hetress]\n",
    "# cnndata = loaders.load_bulk2(\"../data/gnina_processed/chainA/chainA.txt\")\n",
    "df = pd.DataFrame([mol.GetPropsAsDict() for mol in ligs])\n",
    "df[\"ligs\"] = ligs\n",
    "\n",
    "obj = poseview.Poseviewer(chA, df, [\"ligs\"], title = \"Docking with equibind into gnina minimize\", datacols = True)\n",
    "obj.widget"
   ]
  },
  {
   "cell_type": "code",
   "execution_count": null,
   "metadata": {},
   "outputs": [],
   "source": []
  }
 ],
 "metadata": {
  "kernelspec": {
   "display_name": "Python 3.7.12 ('equibind')",
   "language": "python",
   "name": "python3"
  },
  "language_info": {
   "codemirror_mode": {
    "name": "ipython",
    "version": 3
   },
   "file_extension": ".py",
   "mimetype": "text/x-python",
   "name": "python",
   "nbconvert_exporter": "python",
   "pygments_lexer": "ipython3",
   "version": "3.7.12"
  },
  "orig_nbformat": 4,
  "vscode": {
   "interpreter": {
    "hash": "04475abadedb3aab4ccbf1c008eb02d5b063596dfe932483cffbc789dbcaf521"
   }
  }
 },
 "nbformat": 4,
 "nbformat_minor": 2
}
