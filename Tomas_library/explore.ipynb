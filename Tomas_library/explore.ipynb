{
 "cells": [
  {
   "cell_type": "code",
   "execution_count": 2,
   "metadata": {},
   "outputs": [],
   "source": [
    "import sdf_to_parquet"
   ]
  },
  {
   "cell_type": "code",
   "execution_count": 9,
   "metadata": {},
   "outputs": [],
   "source": [
    "sdf_to_parquet.extract_single_file(\n",
    "    \"/home/qzj517/POR-DD/Enamine_library/gnina/gnina_full.sdf\",\n",
    "    \"/home/qzj517/POR-DD/Enamine_library/gnina/test.parquet\",\n",
    "    float_cols = [\"CNNaffinity\", \"CNN_VS\"])"
   ]
  },
  {
   "cell_type": "code",
   "execution_count": 8,
   "metadata": {},
   "outputs": [],
   "source": [
    "sdf_to_parquet.extract_single_file_old(\n",
    "    \"/home/qzj517/POR-DD/Enamine_library/gnina/gnina_full.sdf\",\n",
    "    \"/home/qzj517/POR-DD/Enamine_library/gnina/test.parquet\")"
   ]
  },
  {
   "cell_type": "code",
   "execution_count": 15,
   "metadata": {},
   "outputs": [
    {
     "data": {
      "text/plain": [
       "CNNaffinity_variance     object\n",
       "CNN_VS                  float64\n",
       "ClogP                    object\n",
       "minimizedAffinity        object\n",
       "TPSA                     object\n",
       "minimizedRMSD            object\n",
       "MW (desalted)            object\n",
       "name                     object\n",
       "CNNscore                 object\n",
       "CNNaffinity             float64\n",
       "Catalog ID               object\n",
       "RotBonds                 object\n",
       "PlateID                  object\n",
       "Cluster ID               object\n",
       "HBD                      object\n",
       "Well                     object\n",
       "dtype: object"
      ]
     },
     "execution_count": 15,
     "metadata": {},
     "output_type": "execute_result"
    }
   ],
   "source": [
    "import pandas as pd\n",
    "pd.read_parquet(\"/home/qzj517/POR-DD/Enamine_library/gnina/test.parquet\").dtypes"
   ]
  }
 ],
 "metadata": {
  "kernelspec": {
   "display_name": "equibind",
   "language": "python",
   "name": "python3"
  },
  "language_info": {
   "codemirror_mode": {
    "name": "ipython",
    "version": 3
   },
   "file_extension": ".py",
   "mimetype": "text/x-python",
   "name": "python",
   "nbconvert_exporter": "python",
   "pygments_lexer": "ipython3",
   "version": "3.7.12"
  },
  "orig_nbformat": 4,
  "vscode": {
   "interpreter": {
    "hash": "04475abadedb3aab4ccbf1c008eb02d5b063596dfe932483cffbc789dbcaf521"
   }
  }
 },
 "nbformat": 4,
 "nbformat_minor": 2
}
