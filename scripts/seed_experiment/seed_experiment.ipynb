{
 "cells": [
  {
   "cell_type": "code",
   "execution_count": 121,
   "metadata": {},
   "outputs": [],
   "source": [
    "from importlib import reload\n",
    "import futils.loaders as loaders\n",
    "import pandas as pd\n",
    "import matplotlib.pyplot as plt\n",
    "import numpy as np\n",
    "reload(loaders)\n",
    "data = loaders.load_gnina_across_seeds(\"/home/qzj517/POR-DD/data/gnina_processed/seed_experiment\")\n",
    "for key, df in data.items():\n",
    "    df[\"experiment\"] = [int(key.replace(\"seed_\", \"\").replace(\".txt\", \"\"))]*len(df)\n",
    "data = pd.concat(df for df in data.values())\n",
    "mols = loaders.load_mols_across_seeds(\"/home/qzj517/POR-DD/data/equibind_processed/seed_experiment\")\n",
    "mols = pd.DataFrame(mols)\n",
    "mols = mols.rename(mapper = lambda s: int(s.replace(\"seed_\", \"\")), axis=1)\n",
    "mols = mols.reindex(sorted(mols.columns), axis = 1)\n",
    "f = lambda mol: mol.GetConformer().GetPositions()\n",
    "molcoords = mols.applymap(f)\n",
    "newdf = pd.DataFrame()\n",
    "ref = molcoords[0]\n",
    "for col in molcoords:\n",
    "    newdf[col] = ((molcoords[col] - ref)**2).apply(np.sum)\n",
    "n_exactly_eq_to_seed_0 = (newdf == 0).apply(np.all, axis = 1).sum()"
   ]
  },
  {
   "cell_type": "code",
   "execution_count": 29,
   "metadata": {},
   "outputs": [],
   "source": [
    "data = data.sort_values(\"experiment\")"
   ]
  },
  {
   "cell_type": "code",
   "execution_count": 49,
   "metadata": {},
   "outputs": [],
   "source": [
    "stds = data.groupby(level = 0).std()[[\"CNNscore\", \"CNNaffinity\"]]"
   ]
  },
  {
   "cell_type": "code",
   "execution_count": 50,
   "metadata": {},
   "outputs": [],
   "source": [
    "means = data.groupby(level = 0).mean()[[\"CNNscore\", \"CNNaffinity\"]]"
   ]
  },
  {
   "cell_type": "code",
   "execution_count": 52,
   "metadata": {},
   "outputs": [
    {
     "data": {
      "text/plain": [
       "(array([910.,  22.,  44.,  51.,  57.,  57.,  33.,  23.,  10.,   6.]),\n",
       " array([0.        , 0.02943668, 0.05887337, 0.08831005, 0.11774674,\n",
       "        0.14718342, 0.1766201 , 0.20605679, 0.23549347, 0.26493016,\n",
       "        0.29436684]),\n",
       " <BarContainer object of 10 artists>)"
      ]
     },
     "execution_count": 52,
     "metadata": {},
     "output_type": "execute_result"
    },
    {
     "data": {
      "image/png": "[encoded data removed]",
      "text/plain": [
       "<Figure size 432x288 with 1 Axes>"
      ]
     },
     "metadata": {
      "needs_background": "light"
     },
     "output_type": "display_data"
    }
   ],
   "source": [
    "plt.hist(stds[\"CNNscore\"])"
   ]
  },
  {
   "cell_type": "code",
   "execution_count": 55,
   "metadata": {},
   "outputs": [
    {
     "data": {
      "text/plain": [
       "(array([961., 131.,  47.,  17.,  14.,  14.,  12.,  11.,   3.,   3.]),\n",
       " array([0.        , 0.10675174, 0.21350348, 0.32025522, 0.42700695,\n",
       "        0.53375869, 0.64051043, 0.74726217, 0.85401391, 0.96076565,\n",
       "        1.06751739]),\n",
       " <BarContainer object of 10 artists>)"
      ]
     },
     "execution_count": 55,
     "metadata": {},
     "output_type": "execute_result"
    },
    {
     "data": {
      "image/png": "[encoded data removed]",
      "text/plain": [
       "<Figure size 432x288 with 1 Axes>"
      ]
     },
     "metadata": {
      "needs_background": "light"
     },
     "output_type": "display_data"
    }
   ],
   "source": [
    "plt.hist(stds[\"CNNaffinity\"])"
   ]
  },
  {
   "cell_type": "code",
   "execution_count": 119,
   "metadata": {},
   "outputs": [
    {
     "data": {
      "text/plain": [
       "897"
      ]
     },
     "execution_count": 119,
     "metadata": {},
     "output_type": "execute_result"
    }
   ],
   "source": [
    "sum(stds[\"CNNscore\"]==0)"
   ]
  },
  {
   "cell_type": "code",
   "execution_count": 120,
   "metadata": {},
   "outputs": [
    {
     "ename": "NameError",
     "evalue": "name 'n_exactly_eq_to_seed_0' is not defined",
     "output_type": "error",
     "traceback": [
      "\u001b[0;31m---------------------------------------------------------------------------\u001b[0m",
      "\u001b[0;31mNameError\u001b[0m                                 Traceback (most recent call last)",
      "\u001b[0;32m/tmp/ipykernel_13199/778231469.py\u001b[0m in \u001b[0;36m<module>\u001b[0;34m\u001b[0m\n\u001b[0;32m----> 1\u001b[0;31m \u001b[0mn_exactly_eq_to_seed_0\u001b[0m\u001b[0;34m\u001b[0m\u001b[0;34m\u001b[0m\u001b[0m\n\u001b[0m",
      "\u001b[0;31mNameError\u001b[0m: name 'n_exactly_eq_to_seed_0' is not defined"
     ]
    }
   ],
   "source": [
    "n_exactly_eq_to_seed_0"
   ]
  },
  {
   "cell_type": "code",
   "execution_count": null,
   "metadata": {},
   "outputs": [],
   "source": []
  }
 ],
 "metadata": {
  "interpreter": {
   "hash": "04475abadedb3aab4ccbf1c008eb02d5b063596dfe932483cffbc789dbcaf521"
  },
  "kernelspec": {
   "display_name": "Python 3.7.12 ('equibind')",
   "language": "python",
   "name": "python3"
  },
  "language_info": {
   "codemirror_mode": {
    "name": "ipython",
    "version": 3
   },
   "file_extension": ".py",
   "mimetype": "text/x-python",
   "name": "python",
   "nbconvert_exporter": "python",
   "pygments_lexer": "ipython3",
   "version": "3.7.12"
  },
  "orig_nbformat": 4
 },
 "nbformat": 4,
 "nbformat_minor": 2
}
