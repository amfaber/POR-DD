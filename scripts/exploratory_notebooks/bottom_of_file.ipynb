{
 "cells": [
  {
   "cell_type": "code",
   "execution_count": 4,
   "metadata": {},
   "outputs": [],
   "source": [
    "import gzip\n",
    "from futils import ROOT"
   ]
  },
  {
   "cell_type": "code",
   "execution_count": 15,
   "metadata": {},
   "outputs": [
    {
     "name": "stdout",
     "output_type": "stream",
     "text": [
      "\n",
      "16965\t57268302\t-7.39797\tIDH1 AID602179_inactive_26000-lig_4xs3-rec_docked_rescore\t3.83553 0.0813679\n",
      "16966\t57268302\t-7.31903\tIDH1 AID602179_inactive_26000-lig_4xs3-rec_docked_rescore\t4.42374 0.147513\n",
      "16967\t57268302\t-7.16126\tIDH1 AID602179_inactive_26000-lig_4xs3-rec_docked_rescore\t4.39607 0.080406\n",
      "16968\t57268302\t-7.12204\tIDH1 AID602179_inactive_26000-lig_4xs3-rec_docked_rescore\t3.77583 0.0568688\n",
      "16969\t57268302\t-7.08559\tIDH1 AID602179_inactive_26000-lig_4xs3-rec_docked_rescore\t4.59502 0.194336\n",
      "16970\t57268302\t-6.98189\tIDH1 AID602179_inactive_26000-lig_4xs3-rec_docked_rescore\t4.78281 0.178584\n",
      "16971\t57268302\t-6.90991\tIDH1 AID602179_inactive_26000-lig_4xs3-rec_docked_rescore\t4.44146 0.161684\n",
      "16972\t57268302\t-6.86333\tIDH1 AID602179_inactive_26000-lig_4xs3-rec_docked_rescore\t4.25197 0.261836\n",
      "16973\t57268302\t-6.80067\tIDH1 AID602179_inactive_26000-lig_4xs3-rec_docked_rescore\t4.13859 0.18328\n",
      "16974\t57268302\t-6.78583\tIDH1 AID602179_inactive_26000-lig_4xs3-rec_docked_rescore\t4.01804 0.0630712\n",
      "16975\t5\n"
     ]
    }
   ],
   "source": [
    "with open(ROOT / \"data/gnina_LIT-PCBA_VS_data/lit-pcba/IDH1/newdefault.summary\", \"rb\") as file:\n",
    "    file.seek(4990243286, 0)\n",
    "    dat = file.read(1000).decode()\n",
    "print(dat)\n"
   ]
  },
  {
   "cell_type": "code",
   "execution_count": 6,
   "metadata": {},
   "outputs": [
    {
     "data": {
      "text/plain": [
       "4990243286"
      ]
     },
     "execution_count": 6,
     "metadata": {},
     "output_type": "execute_result"
    }
   ],
   "source": [
    "9980486572//2"
   ]
  },
  {
   "cell_type": "code",
   "execution_count": 20,
   "metadata": {},
   "outputs": [],
   "source": [
    "other = \"123\"\n",
    "s = \"321\"\n",
    "prot = \"321\"\n",
    "new_is_better = True"
   ]
  },
  {
   "cell_type": "code",
   "execution_count": 21,
   "metadata": {},
   "outputs": [],
   "source": [
    "a = other == prot\n",
    "b = s == prot\n",
    "c = new_is_better"
   ]
  },
  {
   "cell_type": "code",
   "execution_count": 22,
   "metadata": {},
   "outputs": [
    {
     "data": {
      "text/plain": [
       "False"
      ]
     },
     "execution_count": 22,
     "metadata": {},
     "output_type": "execute_result"
    }
   ],
   "source": [
    "(a and not b) or (a and b and c)"
   ]
  },
  {
   "cell_type": "code",
   "execution_count": null,
   "metadata": {},
   "outputs": [],
   "source": []
  },
  {
   "cell_type": "code",
   "execution_count": null,
   "metadata": {},
   "outputs": [],
   "source": [
    "a and (not b or (b and c))"
   ]
  },
  {
   "cell_type": "code",
   "execution_count": null,
   "metadata": {},
   "outputs": [],
   "source": [
    "not b or (b and c)"
   ]
  },
  {
   "cell_type": "code",
   "execution_count": null,
   "metadata": {},
   "outputs": [],
   "source": [
    "a and (not b or c)"
   ]
  }
 ],
 "metadata": {
  "kernelspec": {
   "display_name": "Python 3.7.12 ('equibind')",
   "language": "python",
   "name": "python3"
  },
  "language_info": {
   "codemirror_mode": {
    "name": "ipython",
    "version": 3
   },
   "file_extension": ".py",
   "mimetype": "text/x-python",
   "name": "python",
   "nbconvert_exporter": "python",
   "pygments_lexer": "ipython3",
   "version": "3.7.12"
  },
  "orig_nbformat": 4,
  "vscode": {
   "interpreter": {
    "hash": "04475abadedb3aab4ccbf1c008eb02d5b063596dfe932483cffbc789dbcaf521"
   }
  }
 },
 "nbformat": 4,
 "nbformat_minor": 2
}
