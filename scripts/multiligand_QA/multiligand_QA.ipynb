{
 "cells": [
  {
   "cell_type": "code",
   "execution_count": 7,
   "metadata": {},
   "outputs": [],
   "source": [
    "import rdkit.Chem as Chem\n",
    "import os\n",
    "from os.path import join\n",
    "import shutil\n",
    "import yaml\n",
    "import tempfile\n",
    "import numpy as np\n",
    "import pandas as pd\n",
    "import sys\n",
    "from futils import ROOT"
   ]
  },
  {
   "cell_type": "code",
   "execution_count": 8,
   "metadata": {},
   "outputs": [],
   "source": [
    "ligfn = ROOT / \"data/raw_data/cyp_screen/test_3D_opt_1216.sdf\"\n",
    "supp = Chem.SDMolSupplier(ligfn)\n",
    "first_n = 10\n",
    "protfn = ROOT / \"data/raw_data/por_structures/3ES9_bioassem_1.pdb\"\n",
    "\n",
    "top_dir = ROOT / \"data/raw_data/multiligand_QA\"\n",
    "\n",
    "multi_in_dir = join(top_dir, f\"multi_input\")\n",
    "multi_in = join(multi_in_dir, f\"first_{first_n}.sdf\")\n",
    "multi_outs = [join(top_dir, \"multi_output_0\"), join(top_dir, \"multi_output_1\")]\n",
    "multi_path = ROOT / \"EquiBind/multiligand_inference.py\"\n",
    "\n",
    "single_location = ROOT / \"EquiBind/\" #THIS WILL BE cd'ed INTO BEFORE RUNNING THE \"SINGLE\" SCRIPT AND OUT OF AFTERWARDS.\n",
    "path_to_top_dir_from_single_location = ROOT / \"data/raw_data/multiligand_QA\"\n",
    "single_outs = [join(path_to_top_dir_from_single_location, \"single_output_0\"), join(path_to_top_dir_from_single_location, \"single_output_1\")]\n",
    "single_in = join(path_to_top_dir_from_single_location, \"single_input\")\n",
    "single_path = \"inference.py\"\n",
    "\n",
    "save_location = join(top_dir, \"comparison.csv\")\n",
    "\n",
    "cleanup = False\n",
    "\n",
    "suppress_runs = True\n",
    "\n",
    "pd.options.display.float_format = \"{:.2g}\".format\n",
    "\n",
    "batch_size = 5\n"
   ]
  },
  {
   "cell_type": "code",
   "execution_count": 9,
   "metadata": {},
   "outputs": [],
   "source": [
    "os.makedirs(multi_in_dir, exist_ok = True)\n",
    "[os.makedirs(multi_out, exist_ok = True) for multi_out in multi_outs]\n",
    "os.makedirs(single_in, exist_ok = True)\n",
    "[os.makedirs(single_out, exist_ok = True) for single_out in single_outs]\n",
    "\n",
    "with open(multi_in, \"w+\") as multi_file:\n",
    "    for i in range(first_n):\n",
    "        lig = supp[i]\n",
    "        name = lig.GetProp(\"_Name\").replace(\" \", \"_\")\n",
    "        single_dir = join(single_in, name)\n",
    "        os.makedirs(single_dir, exist_ok = True)\n",
    "        shutil.copy2(protfn, join(single_dir, \"protein.pdb\"))\n",
    "        # with Chem.SDWriter(join(single_dir, \"ligand.sdf\")) as w:\n",
    "        #     w.write(lig)\n",
    "        with open(join(single_dir, \"ligand.sdf\"), \"w+\") as w:\n",
    "            w.write(supp.GetItemText(i))\n",
    "        multi_file.write(supp.GetItemText(i))"
   ]
  },
  {
   "cell_type": "code",
   "execution_count": null,
   "metadata": {},
   "outputs": [],
   "source": [
    "# with HiddenPrints(suppress_runs):\n",
    "suppressor = \" > /dev/null\" if suppress_runs else \"\"\n",
    "for i, multi_out in enumerate(multi_outs):\n",
    "    multi_cmd = f\"python {multi_path} -o {multi_out} -r {protfn} -l {multi_in}\"\\\n",
    "    f\" --no_skip --batch_size 3 --n_workers_data_load 0 --seed {i} --batch_size {batch_size}\" + suppressor\n",
    "    os.system(multi_cmd)\n",
    "\n",
    "for i, single_out in enumerate(single_outs):\n",
    "    with tempfile.NamedTemporaryFile(\"w+\") as tmp:\n",
    "        yamldict = {'run_dirs': ['flexible_self_docking'],\n",
    "                    'inference_path': single_in,\n",
    "                    'test_names': 'timesplit_test',\n",
    "                    'output_directory': single_out,\n",
    "                    'run_corrections': True,\n",
    "                    'use_rdkit_coords': False,\n",
    "                    'save_trajectories': False,\n",
    "                    'seed': i,\n",
    "                    'num_confs': 1}\n",
    "        yaml.dump(yamldict, tmp)\n",
    "        tmp.seek(0)\n",
    "        remember_path = os.getcwd()\n",
    "        os.chdir(single_location)\n",
    "        single_cmd = f\"python {single_path} --config={tmp.name}\" + suppressor\n",
    "        os.system(single_cmd)\n",
    "        os.chdir(remember_path)"
   ]
  },
  {
   "cell_type": "code",
   "execution_count": 10,
   "metadata": {},
   "outputs": [],
   "source": [
    "single_ligs = []\n",
    "for single_out in single_outs:\n",
    "    walker = os.walk(single_out)\n",
    "    next(walker)\n",
    "    single_ligs.append([])\n",
    "    for path, folders, files in walker:\n",
    "        lig = Chem.SDMolSupplier(join(path, files[0]), removeHs = False, sanitize = False)[0]\n",
    "        single_ligs[-1].append(lig)\n",
    "\n"
   ]
  },
  {
   "cell_type": "code",
   "execution_count": 11,
   "metadata": {},
   "outputs": [],
   "source": [
    "multi_ligs = [[lig for lig in Chem.SDMolSupplier(join(m_outs, \"output.sdf\"), removeHs = False, sanitize = False)] for m_outs in multi_outs]"
   ]
  },
  {
   "cell_type": "code",
   "execution_count": 12,
   "metadata": {},
   "outputs": [],
   "source": [
    "df = pd.DataFrame({\n",
    "\"multi_ligs_0\": {lig.GetProp(\"_Name\"): lig for lig in multi_ligs[0]},\n",
    "\"multi_ligs_1\": {lig.GetProp(\"_Name\"): lig for lig in multi_ligs[1]},\n",
    "\"single_ligs_0\": {lig.GetProp(\"_Name\"): lig for lig in single_ligs[0]},\n",
    "\"single_ligs_1\": {lig.GetProp(\"_Name\"): lig for lig in single_ligs[1]},\n",
    "})"
   ]
  },
  {
   "cell_type": "code",
   "execution_count": 13,
   "metadata": {},
   "outputs": [],
   "source": [
    "if cleanup:\n",
    "    shutil.rmtree(multi_in_dir, ignore_errors = True)\n",
    "    [shutil.rmtree(multi_out, ignore_errors = True) for multi_out in multi_outs]\n",
    "    shutil.rmtree(single_in, ignore_errors = True)\n",
    "    [shutil.rmtree(single_out, ignore_errors = True) for single_out in single_outs]"
   ]
  },
  {
   "cell_type": "code",
   "execution_count": 16,
   "metadata": {},
   "outputs": [],
   "source": [
    "coords = df.applymap(lambda lig: lig.GetConformer().GetPositions())\n",
    "n_atoms = df.iloc[:, 0].apply(lambda lig: lig.GetNumAtoms())"
   ]
  },
  {
   "cell_type": "code",
   "execution_count": 19,
   "metadata": {},
   "outputs": [],
   "source": [
    "func = lambda comp1, comp2: [np.sqrt(((coords[comp1] - coords[comp2])**2).apply(np.sum))/n_atoms]\n",
    "series = func(\"single_ligs_0\", \"multi_ligs_0\") + func(\"multi_ligs_1\", \"multi_ligs_0\") + func(\"single_ligs_0\", \"single_ligs_1\")\n",
    "# series = [np.sqrt(((coords[\"single_ligs_0\"] - coords[\"multi_ligs_0\"])**2).apply(np.sum))/n_atoms.iloc[:, 0]]\n",
    "# series += [np.sqrt(((coords[\"multi_ligs_1\"] - coords[\"multi_ligs_0\"])**2).apply(np.sum))/n_atoms.iloc[:, 0]]\n",
    "colnames = [\"single_vs_multi_0\", \"multi_1_vs_multi_0\", \"single_0_vs_single_1\"]"
   ]
  },
  {
   "cell_type": "code",
   "execution_count": 20,
   "metadata": {},
   "outputs": [
    {
     "name": "stdout",
     "output_type": "stream",
     "text": [
      "                     single_vs_multi_0  multi_1_vs_multi_0  \\\n",
      "Pyridoxal Phosphate            1.4e-05                   0   \n",
      "L-Phenylalanine                8.7e-06                   0   \n",
      "Biotin                            0.28                0.33   \n",
      "Methionine                        0.45                 0.6   \n",
      "L-Tyrosine                        0.51                0.16   \n",
      "L-Leucine                         0.68               0.028   \n",
      "L-Tryptophan                       0.5               0.025   \n",
      "Thiamine                       6.4e-06                   0   \n",
      "L-Valine                          0.82               0.088   \n",
      "Pyridoxine                        0.56                0.15   \n",
      "\n",
      "                     single_0_vs_single_1  \n",
      "Pyridoxal Phosphate                     0  \n",
      "L-Phenylalanine                         0  \n",
      "Biotin                                  0  \n",
      "Methionine                              0  \n",
      "L-Tyrosine                              0  \n",
      "L-Leucine                               0  \n",
      "L-Tryptophan                            0  \n",
      "Thiamine                                0  \n",
      "L-Valine                                0  \n",
      "Pyridoxine                              0  \n"
     ]
    }
   ],
   "source": [
    "output = pd.DataFrame({col: s for col, s in zip(colnames, series)})\n",
    "output.to_csv(save_location)\n",
    "print(output)"
   ]
  },
  {
   "cell_type": "code",
   "execution_count": null,
   "metadata": {},
   "outputs": [],
   "source": []
  }
 ],
 "metadata": {
  "kernelspec": {
   "display_name": "Python 3.7.12 ('equibind')",
   "language": "python",
   "name": "python3"
  },
  "language_info": {
   "codemirror_mode": {
    "name": "ipython",
    "version": 3
   },
   "file_extension": ".py",
   "mimetype": "text/x-python",
   "name": "python",
   "nbconvert_exporter": "python",
   "pygments_lexer": "ipython3",
   "version": "3.7.12"
  },
  "orig_nbformat": 4,
  "vscode": {
   "interpreter": {
    "hash": "04475abadedb3aab4ccbf1c008eb02d5b063596dfe932483cffbc789dbcaf521"
   }
  }
 },
 "nbformat": 4,
 "nbformat_minor": 2
}
